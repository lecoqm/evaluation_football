{
 "cells": [
  {
   "cell_type": "markdown",
   "metadata": {},
   "source": [
    "# Projet python 2A : évaluation de la valeure des footballeurs\n",
    "\n",
    "César Fabiani - Mathis Lecoq\n",
    "\n",
    "_Ce projet est réalisé dans le cadre du cours de Python de Lino Galiana pour l'année 2023-2024._\n",
    "\n",
    "### Introduction\n",
    "\n",
    "**Notre objectif** : Evaluer la valeur d'un joueur. Pour cela nous avons utilisé les données sur le site [**FB**REF](https://fbref.com/fr/) qui contiennent des données détaillés (buts, passes, etc) pour chaque joueur dans chaque match.\n",
    "\n",
    "**Le projet** : Notre projet se décompose en N étapes : \n",
    "1. Extraction des données en scrappant le site [**FB**REF](https://fbref.com/fr/)\n",
    "2. Identification des variables d'intérets\n",
    "3. ...\n",
    "\n",
    "### Structure du répertoire\n",
    "\n",
    "À la racine du répertoire, on trouve :\n",
    "- **`README.md`** : présentation détaillée du projet\n",
    "\n",
    "### Installations et importations\n",
    "\n",
    "La partie scrapping prenant beaucoup de temps pour éviter de se faire bloquer par le site, elle n'est pas incluse dans ce notebook. Vous pouvez la trouver dans le fichier **`scrapping`**.\n",
    "Pour information, les installations et importations sont les suivantes :"
   ]
  },
  {
   "cell_type": "code",
   "execution_count": 1,
   "metadata": {},
   "outputs": [
    {
     "name": "stdout",
     "output_type": "stream",
     "text": [
      "Reading package lists... Done\n",
      "Building dependency tree... Done\n",
      "Reading state information... Done\n",
      "E: Unable to locate package python3-pip\n",
      "E: Unable to locate package python-dev\n",
      "Collecting lxml\n",
      "  Downloading lxml-4.9.4-cp310-cp310-manylinux_2_28_x86_64.whl.metadata (3.7 kB)\n",
      "Downloading lxml-4.9.4-cp310-cp310-manylinux_2_28_x86_64.whl (7.9 MB)\n",
      "\u001b[2K   \u001b[90m━━━━━━━━━━━━━━━━━━━━━━━━━━━━━━━━━━━━━━━━\u001b[0m \u001b[32m7.9/7.9 MB\u001b[0m \u001b[31m68.5 MB/s\u001b[0m eta \u001b[36m0:00:00\u001b[0m00:01\u001b[0m00:01\u001b[0m\n",
      "\u001b[?25hInstalling collected packages: lxml\n",
      "Successfully installed lxml-4.9.4\n"
     ]
    }
   ],
   "source": [
    "!sudo apt-get install python3-pip python-dev\n",
    "!pip install lxml\n",
    "\n",
    "import bs4\n",
    "import lxml\n",
    "import urllib\n",
    "import requests\n",
    "\n",
    "from bs4 import BeautifulSoup\n",
    "from urllib import request"
   ]
  },
  {
   "cell_type": "markdown",
   "metadata": {},
   "source": [
    "De plus, on utilise le module **`time`** pour espacer les requêtes et le module **`json`** pour stocker les données recueillies : "
   ]
  },
  {
   "cell_type": "code",
   "execution_count": 2,
   "metadata": {},
   "outputs": [],
   "source": [
    "import json\n",
    "import time"
   ]
  },
  {
   "cell_type": "markdown",
   "metadata": {},
   "source": [
    "Pour traiter les données, nous avons utilisé le module **`pandas`** :"
   ]
  },
  {
   "cell_type": "code",
   "execution_count": 3,
   "metadata": {},
   "outputs": [],
   "source": [
    "import pandas as pd"
   ]
  },
  {
   "cell_type": "markdown",
   "metadata": {},
   "source": [
    "### Étape 1 : Extraction des données en scrappant le site [**FB**REF](https://fbref.com/fr/)\n",
    "\n",
    "_Le code de la partie scraping ne se trouve pas dans le notebook car prennant trop de temps pour s'éxecuter. Vous pouvez le trouvez dans le dossier **`scraping`**.\n",
    "\n",
    "La partie scraping s'est déroulée en deux étapes. Premièrement le programme **`scraping_FBREF_1`** permet pour une ligue donnée et une saison donnée d'avoir l'ensemble des url des rapports de match correspondant à cette ligue et à cette saison. La liste des url des matchs est exportée vers le fichier json **`liste_url.json`**. Ensuite, les url récoltées sont utilisées par le programme **`scrap_ligue`** qui vient scrapper les tableaux rassemblant les données de chaque joueur. Ainsi une ligne de ce tableau correspond à la performence d'un joueur lors d'un match. Puis les données sont exportées vers le fichier **`statistiques`**. Voici pour exemple les premières lignes du fichier : "
   ]
  },
  {
   "cell_type": "code",
   "execution_count": 13,
   "metadata": {},
   "outputs": [
    {
     "name": "stdout",
     "output_type": "stream",
     "text": [
      "   Unnamed: 0                Joueur  Numéro de maillot   Nation Emplacement  \\\n",
      "0           0       Odsonne Édouard                 22   fr FRA          FW   \n",
      "1           1  Jean-Philippe Mateta                 14   fr FRA          FW   \n",
      "2           2         Wilfried Zaha                 11   ci CIV          LW   \n",
      "3           3           Jordan Ayew                  9   gh GHA       RW,AM   \n",
      "4           4          Eberechi Eze                 10  eng ENG          AM   \n",
      "\n",
      "      Âge  Minutes  Buts  Passes décisives_x  Pénaltys marqués  ...  \\\n",
      "0  24-201       57     0                   0                 0  ...   \n",
      "1  25-038       33     0                   0                 0  ...   \n",
      "2  29-268       90     0                   0                 0  ...   \n",
      "3  30-328       90     0                   0                 0  ...   \n",
      "4  24-037       85     0                   0                 0  ...   \n",
      "\n",
      "   Centres_y  Interceptions  Tacles réussis_y  Pénaltys réussis  \\\n",
      "0          0              0                 0                 0   \n",
      "1          0              0                 0                 0   \n",
      "2          4              0                 2                 0   \n",
      "3          4              0                 1                 0   \n",
      "4          5              0                 1                 0   \n",
      "\n",
      "   Pénaltys concédés  But contre son camp  Récupérations de balle  \\\n",
      "0                  0                    0                       2   \n",
      "1                  0                    0                       0   \n",
      "2                  0                    0                       9   \n",
      "3                  0                    0                       4   \n",
      "4                  0                    0                       5   \n",
      "\n",
      "   Aerials Won  Aerials Lost  % of Aerials Won  \n",
      "0            0             1               0.0  \n",
      "1            0             1               0.0  \n",
      "2            0             0               NaN  \n",
      "3            2             3              40.0  \n",
      "4            1             2              33.3  \n",
      "\n",
      "[5 rows x 130 columns]\n"
     ]
    }
   ],
   "source": [
    "path = \"data/data_premierleague_2022_2023_V1.csv\"\n",
    "df = pd.read_csv(path)\n",
    "print(df.head())"
   ]
  },
  {
   "cell_type": "markdown",
   "metadata": {},
   "source": [
    "Une fois la base de données obtenue, nous avons nettoyé la base afin d'obtenir des données sur lesquelles nous pouvons travailler. "
   ]
  },
  {
   "cell_type": "markdown",
   "metadata": {},
   "source": [
    "### Étape 2 : Scrapping du site Transfermarkt"
   ]
  },
  {
   "cell_type": "markdown",
   "metadata": {},
   "source": [
    "### Étape 3 : Nettoyage des données et fusion des deux bases\n",
    "\n",
    "Ici il faut mettre ce qui est dans le cleaning pour clean la base FBref (notamment clarifier les positions, c'est le plus important car le modèle est bancal à cause de ça pour l'instant)+ il faut clean la base transfermarkt (transformer les valeurs qui sont en string en valeur numérique avec 30 mil qui devient 30 et 500k qui devient 0.5).\n",
    "\n",
    "En suite on peut merge les deux bases en faisant un left join . Le code de ça est pour l'instant dans la partie modèle et est un peu brouillon je le \n",
    "\n",
    "Une fois ça fait ça nous crée notre base de travail. Je sais pas si on l'exporte ou non. En soit on peut la conserver dans le code pour la suite ou la save et la réouvrir ensuite"
   ]
  },
  {
   "cell_type": "markdown",
   "metadata": {},
   "source": [
    "En attendant, comme j'en ai besoin je créé les nouvelles positions, mais tu peux remplacer par ce que tu as fais, c'est juste temporaire mon truc. D'ailleurs ici je recupère data_pl qui une base déjà issue du fichier cleaning"
   ]
  },
  {
   "cell_type": "code",
   "execution_count": 98,
   "metadata": {},
   "outputs": [
    {
     "name": "stdout",
     "output_type": "stream",
     "text": [
      "0           FW\n",
      "1           FW\n",
      "2           LW\n",
      "3        RW,AM\n",
      "4           AM\n",
      "         ...  \n",
      "11340       LB\n",
      "11341       CB\n",
      "11342       CB\n",
      "11343       RB\n",
      "11344       GK\n",
      "Name: Emplacement, Length: 11345, dtype: object\n",
      "0        Attaquant\n",
      "1        Attaquant\n",
      "2        Attaquant\n",
      "3        Attaquant\n",
      "4           Milieu\n",
      "           ...    \n",
      "11340    Defenseur\n",
      "11341    Defenseur\n",
      "11342    Defenseur\n",
      "11343    Defenseur\n",
      "11344      Gardien\n",
      "Name: position_aggregated, Length: 11345, dtype: object\n"
     ]
    }
   ],
   "source": [
    "data_pl = pd.read_csv(\"/home/onyxia/work/evaluation_football/data/df_PL.csv\")\n",
    "\n",
    "def position(row):\n",
    "    if len(row['Emplacement']) > 2:\n",
    "        return row['Emplacement'][:2]\n",
    "    else:\n",
    "        return row['Emplacement']\n",
    "\n",
    "data_pl['position'] = data_pl.apply(position, axis=1)\n",
    "\n",
    "def position_aggregated(row):\n",
    "    if row['position'] in ['LW','RW','FW']:\n",
    "        return 'Attaquant'\n",
    "    elif row['position'] in ['CM','RM','DM','LM','AM']:\n",
    "        return 'Milieu'\n",
    "    elif row['position'] in ['GK']:\n",
    "        return 'Gardien'\n",
    "    else : \n",
    "        return 'Defenseur'\n",
    "\n",
    "data_pl['position_aggregated'] = data_pl.apply(position_aggregated, axis=1)   \n",
    "print(data_pl['Emplacement'])\n",
    "print(data_pl['position_aggregated'])"
   ]
  },
  {
   "cell_type": "markdown",
   "metadata": {},
   "source": [
    "### Étape 4 : Statistiques descriptives"
   ]
  },
  {
   "cell_type": "markdown",
   "metadata": {},
   "source": [
    "### Étape 5 : Modèle\n",
    "\n",
    "Je mets le modèle temporaire en chargeant des bases.\n",
    "Comme le merge des deux bases n'est pas encore fait, je le fait là mais infine faudra le placer plus haut"
   ]
  },
  {
   "cell_type": "markdown",
   "metadata": {},
   "source": [
    "Ci-dessous merge temporaire qui sera replacer au dessus"
   ]
  },
  {
   "cell_type": "code",
   "execution_count": 99,
   "metadata": {},
   "outputs": [
    {
     "name": "stdout",
     "output_type": "stream",
     "text": [
      "                     Joueur  Unnamed: 0.1  Unnamed: 0  Numéro de maillot  \\\n",
      "0           Odsonne Édouard             0           0                 22   \n",
      "1      Jean-Philippe Mateta             1           1                 14   \n",
      "2             Wilfried Zaha             2           2                 11   \n",
      "3               Jordan Ayew             3           3                  9   \n",
      "4              Eberechi Eze             4           4                 10   \n",
      "...                     ...           ...         ...                ...   \n",
      "11835            Nathan Aké         11340          23                  6   \n",
      "11836          Shea Charles         11341          24                 62   \n",
      "11837       Aymeric Laporte         11342          25                 14   \n",
      "11838           Kyle Walker         11343          26                  2   \n",
      "11839               Ederson         11344          27                 31   \n",
      "\n",
      "        Nation Emplacement     Âge  Minutes  Buts  Passes décisives_x  ...  \\\n",
      "0       fr FRA          FW  24-201       57     0                   0  ...   \n",
      "1       fr FRA          FW  25-038       33     0                   0  ...   \n",
      "2       ci CIV          LW  29-268       90     0                   0  ...   \n",
      "3       gh GHA       RW,AM  30-328       90     0                   0  ...   \n",
      "4      eng ENG          AM  24-037       85     0                   0  ...   \n",
      "...        ...         ...     ...      ...   ...                 ...  ...   \n",
      "11835   nl NED          LB  28-099       62     0                   0  ...   \n",
      "11836  nir NIR          CB  19-204       28     0                   0  ...   \n",
      "11837   es ESP          CB  29-001       90     0                   0  ...   \n",
      "11838  eng ENG          RB  33-000       90     0                   0  ...   \n",
      "11839   br BRA          GK  29-284       90     0                   0  ...   \n",
      "\n",
      "       Aerials Won  Aerials Lost  % of Aerials Won   home  pts_gagnes  \\\n",
      "0                0             1               0.0   True           0   \n",
      "1                0             1               0.0   True           0   \n",
      "2                0             0               NaN   True           0   \n",
      "3                2             3              40.0   True           0   \n",
      "4                1             2              33.3   True           0   \n",
      "...            ...           ...               ...    ...         ...   \n",
      "11835            1             2              33.3  False           0   \n",
      "11836            2             0             100.0  False           0   \n",
      "11837            1             2              33.3  False           0   \n",
      "11838            1             1              50.0  False           0   \n",
      "11839            0             0               NaN  False           0   \n",
      "\n",
      "       pts_apportes  position  position_aggregated        Valeur  \\\n",
      "0               0.0        FW            Attaquant           NaN   \n",
      "1               0.0        FW            Attaquant   7,00 mio. €   \n",
      "2               0.0        LW            Attaquant  22,00 mio. €   \n",
      "3               0.0        RW            Attaquant   5,00 mio. €   \n",
      "4               0.0        AM               Milieu  40,00 mio. €   \n",
      "...             ...       ...                  ...           ...   \n",
      "11835           0.0        LB            Defenseur  42,00 mio. €   \n",
      "11836           0.0        CB            Defenseur             -   \n",
      "11837           0.0        CB            Defenseur  25,00 mio. €   \n",
      "11838           0.0        RB            Defenseur  13,00 mio. €   \n",
      "11839           0.0        GK              Gardien  40,00 mio. €   \n",
      "\n",
      "           Date naissance  \n",
      "0                     NaN  \n",
      "1       28 juin 1997 (26)  \n",
      "2       10 nov. 1992 (30)  \n",
      "3      11 sept. 1991 (31)  \n",
      "4       29 juin 1998 (25)  \n",
      "...                   ...  \n",
      "11835  18 févr. 1995 (28)  \n",
      "11836    5 nov. 2003 (19)  \n",
      "11837    27 mai 1994 (29)  \n",
      "11838    28 mai 1990 (33)  \n",
      "11839   17 août 1993 (29)  \n",
      "\n",
      "[11840 rows x 138 columns]\n",
      "935\n"
     ]
    }
   ],
   "source": [
    "\n",
    "right = pd.read_csv(\"/home/onyxia/work/evaluation_football/data/tm.csv\")\n",
    "data_pl.set_index('Joueur', inplace= True)\n",
    "right.columns = ['Joueur', 'Valeur', 'Date naissance']\n",
    "right.set_index('Joueur', inplace= True)\n",
    "\n",
    "base_work = pd.merge(data_pl, right, how='left', left_index=True, right_index=True)\n",
    "base_work = base_work.sort_values(by = \"Unnamed: 0.1\")\n",
    "base_work['Joueur'] = base_work.index\n",
    "base_work = base_work.reset_index(drop = True)\n",
    "col_joueur = base_work.pop('Joueur')\n",
    "base_work.insert(0, 'Joueur', col_joueur)\n",
    "print(base_work)\n",
    "print(base_work['Valeur'].isna().sum())"
   ]
  },
  {
   "cell_type": "code",
   "execution_count": 100,
   "metadata": {},
   "outputs": [
    {
     "name": "stdout",
     "output_type": "stream",
     "text": [
      "0                 NaN\n",
      "1         7,00 mio. €\n",
      "2        22,00 mio. €\n",
      "3         5,00 mio. €\n",
      "4        40,00 mio. €\n",
      "             ...     \n",
      "11835    42,00 mio. €\n",
      "11836               -\n",
      "11837    25,00 mio. €\n",
      "11838    13,00 mio. €\n",
      "11839    40,00 mio. €\n",
      "Name: Valeur, Length: 11840, dtype: object\n",
      "1         7,00 mio. €\n",
      "2        22,00 mio. €\n",
      "3         5,00 mio. €\n",
      "4        40,00 mio. €\n",
      "5         3,00 mio. €\n",
      "             ...     \n",
      "11835    42,00 mio. €\n",
      "11836               -\n",
      "11837    25,00 mio. €\n",
      "11838    13,00 mio. €\n",
      "11839    40,00 mio. €\n",
      "Name: Valeur, Length: 10905, dtype: object\n"
     ]
    }
   ],
   "source": [
    "\n",
    "print(base_work['Valeur'])\n",
    "\n",
    "base_work = base_work.dropna(subset=['Valeur'])\n",
    "\n",
    "print(base_work['Valeur'])\n"
   ]
  },
  {
   "cell_type": "code",
   "execution_count": 101,
   "metadata": {},
   "outputs": [],
   "source": [
    "def valeur_joueur(row):\n",
    "    if 'mio. €' in row['Valeur']:\n",
    "        return float(row['Valeur'].replace(\" mio. €\", '').replace(',', '.'))\n",
    "    elif 'K €' in row['Valeur']:\n",
    "        return float(row['Valeur'][:-4]) / 1000\n",
    "    else: \n",
    "        return 0\n",
    "\n",
    "base_work['valeur_joueur'] = base_work.apply(valeur_joueur, axis = 1)\n"
   ]
  },
  {
   "cell_type": "code",
   "execution_count": 102,
   "metadata": {},
   "outputs": [
    {
     "name": "stdout",
     "output_type": "stream",
     "text": [
      "113     8,00 mio. €\n",
      "114         600 K €\n",
      "115     8,00 mio. €\n",
      "116    16,00 mio. €\n",
      "117     3,50 mio. €\n",
      "118    20,00 mio. €\n",
      "119    10,00 mio. €\n",
      "121         600 K €\n",
      "122    12,00 mio. €\n",
      "123    18,00 mio. €\n",
      "Name: Valeur, dtype: object\n",
      "113     8.0\n",
      "114     0.6\n",
      "115     8.0\n",
      "116    16.0\n",
      "117     3.5\n",
      "118    20.0\n",
      "119    10.0\n",
      "121     0.6\n",
      "122    12.0\n",
      "123    18.0\n",
      "Name: valeur_joueur, dtype: float64\n"
     ]
    }
   ],
   "source": [
    "print(base_work['Valeur'][100:110])\n",
    "print(base_work['valeur_joueur'][100:110])"
   ]
  },
  {
   "cell_type": "code",
   "execution_count": 103,
   "metadata": {},
   "outputs": [],
   "source": [
    "def buts_equipe(row):\n",
    "    if row[\"id_team_A\"] == row[\"team tag\"]:\n",
    "        return row['score_team_A']\n",
    "    else:\n",
    "        return row['score_team_B']\n",
    "\n",
    "base_work['buts_equipes'] = base_work.apply(buts_equipe, axis=1)\n",
    "\n",
    "data_pl_2 = base_work[base_work['position_aggregated']== 'Attaquant']"
   ]
  },
  {
   "cell_type": "code",
   "execution_count": 104,
   "metadata": {},
   "outputs": [],
   "source": [
    "y = base_work['buts_equipes'].values.reshape(-1,1)\n",
    "\n",
    "def reg_simple(x,y):\n",
    "    reg = linear_model.LinearRegression()\n",
    "    reg.fit(x, y)\n",
    "    y_pred = reg.predict(x)\n",
    "\n",
    "    intercept = reg.intercept_\n",
    "    slope = reg.coef_[0]\n",
    "    mse = mean_squared_error(y,y_pred)\n",
    "    r2 = r2_score(y,y_pred)\n",
    "    \n",
    "    return intercept, slope, mse, r2"
   ]
  },
  {
   "cell_type": "code",
   "execution_count": 105,
   "metadata": {},
   "outputs": [],
   "source": [
    "Var_forward = ['Buts', 'Passes décisives_x','Pénaltys marqués', 'Pénaltys tirés', 'Total des tirs ',\n",
    "       'Shots on Target', 'Cartons jaunes_x', 'Cartons rouges_x', 'Touches_x',\n",
    "       'Tacles_x', 'Interceptions_x', 'Balles contrées_x','Actions menant à un tir',\n",
    "       'Actions menant à un but', 'Passes réussies_x', 'Passes tentées_x',\n",
    "       'Passes progressives_x', 'Balle au pied_x','Possessions progressives_x', 'Dribbles tentés_x', 'Dribbles réussis_x'\n",
    "       ]"
   ]
  },
  {
   "cell_type": "code",
   "execution_count": 106,
   "metadata": {},
   "outputs": [
    {
     "data": {
      "image/png": "[encoded data removed]",
      "text/plain": [
       "<Figure size 640x480 with 1 Axes>"
      ]
     },
     "metadata": {},
     "output_type": "display_data"
    }
   ],
   "source": [
    "from sklearn import datasets, linear_model\n",
    "from sklearn.metrics import mean_squared_error, r2_score\n",
    "\n",
    "stat_forward = Var_forward\n",
    "dict_forward = {}\n",
    "for stat in stat_forward:\n",
    "    x = base_work[[stat]]\n",
    "    result_reg = reg_simple(x,y)\n",
    "    #print(result_reg)\n",
    "    dict_forward[stat] = result_reg\n",
    "\n",
    "\n",
    "\n",
    "\n",
    "import matplotlib.pyplot as plt\n",
    "\n",
    "var = dict_forward.keys()\n",
    "r2list = [ele[3] for ele in dict_forward.values()]\n",
    "\n",
    "sorted_data = sorted(zip(var, r2list), key=lambda x: x[1], reverse=True)\n",
    "var_sorted, r2list_sorted = zip(*sorted_data)\n",
    "\n",
    "plt.bar(var_sorted, r2list_sorted, color='blue')\n",
    "plt.xlabel('Variable')\n",
    "plt.ylabel('R²')\n",
    "plt.title('Title')\n",
    "plt.xticks(rotation=45, ha='right')\n",
    "plt.show()"
   ]
  },
  {
   "cell_type": "code",
   "execution_count": 107,
   "metadata": {},
   "outputs": [
    {
     "name": "stdout",
     "output_type": "stream",
     "text": [
      "(array([1.20124946]), array([ 1.12359173,  1.10840136,  0.03871762, -0.06646548,  0.00821231]), 1.4201955916323605, 0.22734329723999902)\n"
     ]
    }
   ],
   "source": [
    "var_retenues = ['Buts','Passes décisives_x','Shots on Target','Total des tirs ','Passes progressives_x']\n",
    "x = data_pl_2[var_retenues]\n",
    "y = data_pl_2['buts_equipes'].values.reshape(-1,1)\n",
    "print(reg_simple(x,y))\n",
    "intercept, coef, _ , _ = reg_simple(x,y)\n",
    "list_coef = list(coef)"
   ]
  },
  {
   "cell_type": "code",
   "execution_count": 108,
   "metadata": {},
   "outputs": [
    {
     "name": "stdout",
     "output_type": "stream",
     "text": [
      "                    Joueur  Buts  Minutes  pts joueurs  pts_gagnes  \\\n",
      "57            Demarai Gray     4     2291    37.076556          26   \n",
      "109           Jarrod Bowen     4     2603    43.282785          31   \n",
      "5               Alex Iwobi     1      987    16.460071          15   \n",
      "120              Joelinton     3      923    15.813310          27   \n",
      "234          Wilfried Zaha     6     2108    36.403260          32   \n",
      "65         Dominic Solanke     6     2546    46.270942          35   \n",
      "15                  Antony     4     1624    30.029230          42   \n",
      "26         Brennan Johnson     5     2235    42.302945          32   \n",
      "64   Dominic Calvert-Lewin     2     1165    22.254504          14   \n",
      "123            Jordan Ayew     4     2200    42.560800          39   \n",
      "\n",
      "     valeur_joueur  pts joueur par 90  \n",
      "57            20.0           1.456521  \n",
      "109           38.0           1.496523  \n",
      "5             28.0           1.500918  \n",
      "120           42.0           1.541926  \n",
      "234           22.0           1.554219  \n",
      "65            20.0           1.635658  \n",
      "15            60.0           1.664181  \n",
      "26            38.0           1.703474  \n",
      "64            25.0           1.719232  \n",
      "123            5.0           1.741124  \n"
     ]
    },
    {
     "name": "stderr",
     "output_type": "stream",
     "text": [
      "/tmp/ipykernel_10616/1204513335.py:1: SettingWithCopyWarning: \n",
      "A value is trying to be set on a copy of a slice from a DataFrame.\n",
      "Try using .loc[row_indexer,col_indexer] = value instead\n",
      "\n",
      "See the caveats in the documentation: https://pandas.pydata.org/pandas-docs/stable/user_guide/indexing.html#returning-a-view-versus-a-copy\n",
      "  data_pl_2['pts joueurs'] = intercept[0] + data_pl_2[var_retenues[0]] * list_coef[0] + \\\n"
     ]
    }
   ],
   "source": [
    "data_pl_2['pts joueurs'] = intercept[0] + data_pl_2[var_retenues[0]] * list_coef[0] + \\\n",
    "                                        data_pl_2[var_retenues[1]] * list_coef[1] + \\\n",
    "                                        data_pl_2[var_retenues[2]] * list_coef[2] + \\\n",
    "                                        data_pl_2[var_retenues[3]] * list_coef[3] + \\\n",
    "                                        data_pl_2[var_retenues[4]] * list_coef[4] \n",
    "\n",
    "perf_joueur = data_pl_2.groupby('Joueur').agg({'Buts' : 'sum','Minutes' : 'sum', 'pts joueurs': 'sum', 'pts_gagnes': 'sum', 'valeur_joueur' : 'first'}).reset_index()\n",
    "perf_joueur = perf_joueur[perf_joueur['Minutes'] >= 900]\n",
    "perf_joueur['pts joueur par 90'] = perf_joueur['pts joueurs'] * 90 / perf_joueur['Minutes']\n",
    "print(perf_joueur.sort_values(by = 'pts joueur par 90', ascending= True).head(10))\n"
   ]
  },
  {
   "cell_type": "code",
   "execution_count": null,
   "metadata": {},
   "outputs": [],
   "source": []
  }
 ],
 "metadata": {
  "kernelspec": {
   "display_name": "Python 3",
   "language": "python",
   "name": "python3"
  },
  "language_info": {
   "codemirror_mode": {
    "name": "ipython",
    "version": 3
   },
   "file_extension": ".py",
   "mimetype": "text/x-python",
   "name": "python",
   "nbconvert_exporter": "python",
   "pygments_lexer": "ipython3",
   "version": "3.10.13"
  }
 },
 "nbformat": 4,
 "nbformat_minor": 2
}
