{
 "cells": [
  {
   "cell_type": "markdown",
   "metadata": {},
   "source": [
    "# Projet python 2A : évaluation de la valeure des footballeurs\n",
    "\n",
    "César Fabiani - Mathis Lecoq\n",
    "\n",
    "_Ce projet est réalisé dans le cadre du cours de Python de Lino Galiana pour l'année 2023-2024._\n",
    "\n",
    "### Introduction\n",
    "\n",
    "**Notre objectif** : Evaluer la valeur d'un joueur. Pour cela nous avons utilisé les données sur le site [**FB**REF](https://fbref.com/fr/) qui contiennent des données détaillés (buts, passes, etc) pour chaque joueur dans chaque match.\n",
    "\n",
    "**Le projet** : Notre projet se décompose en N étapes : \n",
    "1. Extraction des données en scrappant le site [**FB**REF](https://fbref.com/fr/)\n",
    "2. Identification des variables d'intérets\n",
    "3. ...\n",
    "\n",
    "### Structure du répertoire\n",
    "\n",
    "À la racine du répertoire, on trouve :\n",
    "- **`README.md`** : présentation détaillée du projet\n",
    "\n",
    "### Installations et importations\n",
    "\n",
    "La partie scrapping prenant beaucoup de temps pour éviter de se faire bloquer par le site, elle n'est pas incluse dans ce notebook. Vous pouvez la trouver dans le fichier **`scrapping`**.\n",
    "Pour information, les installations et importations sont les suivantes :"
   ]
  },
  {
   "cell_type": "code",
   "execution_count": 7,
   "metadata": {},
   "outputs": [
    {
     "name": "stdout",
     "output_type": "stream",
     "text": [
      "Reading package lists... Done\n",
      "Building dependency tree... Done\n",
      "Reading state information... Done\n",
      "E: Unable to locate package python3-pip\n",
      "E: Unable to locate package python-dev\n",
      "Requirement already satisfied: lxml in /opt/mamba/lib/python3.10/site-packages (4.9.4)\n"
     ]
    }
   ],
   "source": [
    "!sudo apt-get install python3-pip python-dev\n",
    "!pip install lxml\n",
    "\n",
    "import bs4\n",
    "import lxml\n",
    "import urllib\n",
    "\n",
    "from urllib import request"
   ]
  },
  {
   "cell_type": "markdown",
   "metadata": {},
   "source": [
    "De plus, on utilise le module **`time`** pour espacer les requêtes et le module **`json`** pour stocker les données recueillies : "
   ]
  },
  {
   "cell_type": "code",
   "execution_count": 8,
   "metadata": {},
   "outputs": [],
   "source": [
    "import json\n",
    "import time"
   ]
  },
  {
   "cell_type": "markdown",
   "metadata": {},
   "source": [
    "Pour traiter les données, nous avons utilisé le module **`pandas`** :"
   ]
  },
  {
   "cell_type": "code",
   "execution_count": 9,
   "metadata": {},
   "outputs": [],
   "source": [
    "import pandas as pd"
   ]
  },
  {
   "cell_type": "markdown",
   "metadata": {},
   "source": [
    "### Étape 1 : Extraction des données en scrappant le site [**FB**REF](https://fbref.com/fr/)\n",
    "\n",
    "_Le code de la partie scraping ne se trouve pas dans le notebook car prennant trop de temps pour s'éxecuter. Vous pouvez le trouvez dans le dossier **`scraping`**.\n",
    "\n",
    "La partie scraping s'est déroulée en deux étapes. Premièrement le programme **`scraping_FBREF_1`** permet pour une ligue donnée et une saison donnée d'avoir l'ensemble des url des rapports de match correspondant à cette ligue et à cette saison. La liste des url des matchs est exportée vers le fichier json **`liste_url.json`**. Ensuite, les url récoltées sont utilisées par le programme **`scrap_ligue`** qui vient scrapper les tableaux rassemblant les données de chaque joueur. Ainsi une ligne de ce tableau correspond à la performence d'un joueur lors d'un match. Puis les données sont exportées vers le fichier **`statistiques`**. Voici pour exemple les premières lignes du fichier : "
   ]
  },
  {
   "cell_type": "code",
   "execution_count": 13,
   "metadata": {},
   "outputs": [
    {
     "name": "stdout",
     "output_type": "stream",
     "text": [
      "   Unnamed: 0                Joueur  Numéro de maillot   Nation Emplacement  \\\n",
      "0           0       Odsonne Édouard                 22   fr FRA          FW   \n",
      "1           1  Jean-Philippe Mateta                 14   fr FRA          FW   \n",
      "2           2         Wilfried Zaha                 11   ci CIV          LW   \n",
      "3           3           Jordan Ayew                  9   gh GHA       RW,AM   \n",
      "4           4          Eberechi Eze                 10  eng ENG          AM   \n",
      "\n",
      "      Âge  Minutes  Buts  Passes décisives_x  Pénaltys marqués  ...  \\\n",
      "0  24-201       57     0                   0                 0  ...   \n",
      "1  25-038       33     0                   0                 0  ...   \n",
      "2  29-268       90     0                   0                 0  ...   \n",
      "3  30-328       90     0                   0                 0  ...   \n",
      "4  24-037       85     0                   0                 0  ...   \n",
      "\n",
      "   Centres_y  Interceptions  Tacles réussis_y  Pénaltys réussis  \\\n",
      "0          0              0                 0                 0   \n",
      "1          0              0                 0                 0   \n",
      "2          4              0                 2                 0   \n",
      "3          4              0                 1                 0   \n",
      "4          5              0                 1                 0   \n",
      "\n",
      "   Pénaltys concédés  But contre son camp  Récupérations de balle  \\\n",
      "0                  0                    0                       2   \n",
      "1                  0                    0                       0   \n",
      "2                  0                    0                       9   \n",
      "3                  0                    0                       4   \n",
      "4                  0                    0                       5   \n",
      "\n",
      "   Aerials Won  Aerials Lost  % of Aerials Won  \n",
      "0            0             1               0.0  \n",
      "1            0             1               0.0  \n",
      "2            0             0               NaN  \n",
      "3            2             3              40.0  \n",
      "4            1             2              33.3  \n",
      "\n",
      "[5 rows x 130 columns]\n"
     ]
    }
   ],
   "source": [
    "path = \"data/data_premierleague_2022_2023_V1.csv\"\n",
    "df = pd.read_csv(path)\n",
    "print(df.head())"
   ]
  },
  {
   "cell_type": "markdown",
   "metadata": {},
   "source": [
    "Une fois la base de données obtenue, nous avons nettoyé la base afin d'obtenir des données sur lesquelles nous pouvons travailler. "
   ]
  }
 ],
 "metadata": {
  "kernelspec": {
   "display_name": "Python 3",
   "language": "python",
   "name": "python3"
  },
  "language_info": {
   "codemirror_mode": {
    "name": "ipython",
    "version": 3
   },
   "file_extension": ".py",
   "mimetype": "text/x-python",
   "name": "python",
   "nbconvert_exporter": "python",
   "pygments_lexer": "ipython3",
   "version": "3.10.13"
  }
 },
 "nbformat": 4,
 "nbformat_minor": 2
}
