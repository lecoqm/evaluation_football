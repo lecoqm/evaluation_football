{
 "cells": [
  {
   "cell_type": "markdown",
   "metadata": {},
   "source": [
    "# Projet python 2A : évaluation de la valeure des footballeurs\n",
    "\n",
    "César Fabiani - Mathis Lecoq\n",
    "\n",
    "_Ce projet est réalisé dans le cadre du cours de Python de Lino Galiana pour l'année 2023-2024._\n",
    "\n",
    "### Introduction\n",
    "\n",
    "**Nos objectifs** : "
   ]
  }
 ],
 "metadata": {
  "language_info": {
   "name": "python"
  }
 },
 "nbformat": 4,
 "nbformat_minor": 2
}
